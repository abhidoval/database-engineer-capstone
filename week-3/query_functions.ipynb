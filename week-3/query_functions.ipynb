{
 "cells": [
  {
   "cell_type": "code",
   "execution_count": 2,
   "metadata": {},
   "outputs": [],
   "source": [
    "import mysql.connector as connector"
   ]
  },
  {
   "cell_type": "code",
   "execution_count": null,
   "metadata": {},
   "outputs": [],
   "source": [
    "#test the connection\n",
    "try:\n",
    "    connection = connector.connect(user='root',password='root@123',db='LittleLemonDB')\n",
    "    print('Connection Established!!!')\n",
    "    #add a cursor\n",
    "    cursor = connection.cursor()\n",
    "    print('Cursor object added')\n",
    "except connector.Error as err:\n",
    "    print('Error No: ',err.errno)\n",
    "    print('Error Msg: ',err.msg)"
   ]
  },
  {
   "cell_type": "markdown",
   "metadata": {},
   "source": [
    "### Task 2\n",
    "Need to query the database to show all tables within the database."
   ]
  },
  {
   "cell_type": "code",
   "execution_count": null,
   "metadata": {},
   "outputs": [],
   "source": [
    "cursor.execute('SHOW TABLES')\n",
    "result = cursor.fetchall()\n",
    "print('Tables present in ',connection.database,' are: ')\n",
    "for table in result:\n",
    "    print(table)\n"
   ]
  },
  {
   "cell_type": "markdown",
   "metadata": {},
   "source": [
    "### TASK 3\n",
    "\n",
    " Little Lemon need you to return specific details from your database. They require the full name and contact details for every customer that has placed an order greater than $60 for a promotional campaign. "
   ]
  },
  {
   "cell_type": "code",
   "execution_count": null,
   "metadata": {},
   "outputs": [],
   "source": [
    "cursor.execute(\"\"\"\n",
    "SELECT CONCAT(Customer.first_name,' ',Customer.Last_name) AS CUSTOMER_NAME,Customer.phone_number,\n",
    "               Booking.booking_id,Orders.cost as Total_COST\n",
    "               FROM Customer\n",
    "               JOIN Booking\n",
    "               ON Customer.customer_id = Booking_customer_id\n",
    "               JOIN Orders\n",
    "               ON Orders.order_id = Booking.order_id\n",
    "               WHERE Order.cost > 60\n",
    "\"\"\")\n",
    "result = cursor.fetchall()\n",
    "col_name = cursor.column_names\n",
    "print('Customer who have spent more than 60 dollars are: ')\n",
    "print(col_name)\n",
    "for customer in result:\n",
    "    print(customer)"
   ]
  },
  {
   "cell_type": "code",
   "execution_count": null,
   "metadata": {},
   "outputs": [],
   "source": [
    "#close the connection\n",
    "connection.close()\n",
    "print('Connection is now closed')"
   ]
  }
 ],
 "metadata": {
  "kernelspec": {
   "display_name": "meta",
   "language": "python",
   "name": "python3"
  },
  "language_info": {
   "codemirror_mode": {
    "name": "ipython",
    "version": 3
   },
   "file_extension": ".py",
   "mimetype": "text/x-python",
   "name": "python",
   "nbconvert_exporter": "python",
   "pygments_lexer": "ipython3",
   "version": "3.10.11"
  },
  "orig_nbformat": 4
 },
 "nbformat": 4,
 "nbformat_minor": 2
}
